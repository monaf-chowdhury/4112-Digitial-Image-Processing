{
 "cells": [
  {
   "cell_type": "markdown",
   "id": "81a6d9bb",
   "metadata": {},
   "source": [
    "# Task-2"
   ]
  },
  {
   "cell_type": "code",
   "execution_count": 34,
   "id": "38b49afa",
   "metadata": {},
   "outputs": [],
   "source": [
    "import cv2\n",
    "import numpy as np"
   ]
  },
  {
   "cell_type": "code",
   "execution_count": 35,
   "id": "42dafc7b",
   "metadata": {},
   "outputs": [],
   "source": [
    "input_img = cv2.imread('Input-1.png')"
   ]
  },
  {
   "cell_type": "code",
   "execution_count": 36,
   "id": "9c27e234",
   "metadata": {},
   "outputs": [],
   "source": [
    "grayed = cv2.cvtColor(input_img, cv2.COLOR_BGR2GRAY)"
   ]
  },
  {
   "cell_type": "code",
   "execution_count": 37,
   "id": "a1e29285",
   "metadata": {},
   "outputs": [],
   "source": [
    "filtered_img = cv2.medianBlur(grayed, 5)"
   ]
  },
  {
   "cell_type": "code",
   "execution_count": 38,
   "id": "06ee2483",
   "metadata": {},
   "outputs": [
    {
     "data": {
      "text/plain": [
       "-1"
      ]
     },
     "execution_count": 38,
     "metadata": {},
     "output_type": "execute_result"
    }
   ],
   "source": [
    "cv2.imshow('Original', grayed)\n",
    "cv2.imshow('Filtered', filtered_img)\n",
    "cv2.waitKey(0)"
   ]
  },
  {
   "cell_type": "markdown",
   "id": "f0d98850",
   "metadata": {},
   "source": [
    "# Task-4"
   ]
  },
  {
   "cell_type": "code",
   "execution_count": 2,
   "id": "505f96e6",
   "metadata": {},
   "outputs": [],
   "source": [
    "from PIL import Image"
   ]
  },
  {
   "cell_type": "code",
   "execution_count": 8,
   "id": "16040a71",
   "metadata": {},
   "outputs": [],
   "source": [
    "foregnd_img = Image.open('foregnd.png').convert('RGB').resize((600,600))\n",
    "backgnd_img = Image.open('backgnd.png').convert('RGB').resize((600,600))"
   ]
  },
  {
   "cell_type": "code",
   "execution_count": 9,
   "id": "042cae02",
   "metadata": {},
   "outputs": [],
   "source": [
    "masking = Image.open('alpha_chnl.png').convert('L').resize((600,600))"
   ]
  },
  {
   "cell_type": "code",
   "execution_count": 10,
   "id": "4aee8ac9",
   "metadata": {},
   "outputs": [],
   "source": [
    "Image.composite(foregnd_img, backgnd_img, masking).save('Output.png')\n",
    "out_img = cv2.imread('Output.png')\n",
    "cv2.imshow('Output Image', out_img)\n",
    "cv2.waitKey(0)\n",
    "cv2.destroyAllWindows()"
   ]
  },
  {
   "cell_type": "markdown",
   "id": "3278bbab",
   "metadata": {},
   "source": [
    "# Task-3"
   ]
  },
  {
   "cell_type": "code",
   "execution_count": 39,
   "id": "5fe9730b",
   "metadata": {},
   "outputs": [],
   "source": [
    "input_noise_img = cv2.imread('input-3.png')"
   ]
  },
  {
   "cell_type": "code",
   "execution_count": 40,
   "id": "18bf837a",
   "metadata": {},
   "outputs": [],
   "source": [
    "bilateral_img = cv2.bilateralFilter(input_noise_img, 20, 40, 100, borderType = cv2.BORDER_CONSTANT)"
   ]
  },
  {
   "cell_type": "code",
   "execution_count": 41,
   "id": "3fe7738a",
   "metadata": {},
   "outputs": [],
   "source": [
    "cv2.imshow('Original', input_noise_img)\n",
    "cv2.imshow('Bilateral', bilateral_img)\n",
    "cv2.waitKey(0)\n",
    "cv2.destroyAllWindows()"
   ]
  },
  {
   "cell_type": "code",
   "execution_count": 42,
   "id": "e838a763",
   "metadata": {},
   "outputs": [],
   "source": [
    "median_img = cv2.medianBlur(input_noise_img, 7)"
   ]
  },
  {
   "cell_type": "code",
   "execution_count": 43,
   "id": "6d9650c5",
   "metadata": {},
   "outputs": [],
   "source": [
    "cv2.imshow('Original', input_noise_img)\n",
    "cv2.imshow('Median', median_img)\n",
    "cv2.waitKey(0)\n",
    "cv2.destroyAllWindows()"
   ]
  }
 ],
 "metadata": {
  "kernelspec": {
   "display_name": "Python 3 (ipykernel)",
   "language": "python",
   "name": "python3"
  },
  "language_info": {
   "codemirror_mode": {
    "name": "ipython",
    "version": 3
   },
   "file_extension": ".py",
   "mimetype": "text/x-python",
   "name": "python",
   "nbconvert_exporter": "python",
   "pygments_lexer": "ipython3",
   "version": "3.9.12"
  }
 },
 "nbformat": 4,
 "nbformat_minor": 5
}
